{
 "cells": [
  {
   "cell_type": "markdown",
   "id": "069530d5-2a3e-4022-83ad-24e5c62c1d81",
   "metadata": {},
   "source": [
    "# Matrix"
   ]
  },
  {
   "cell_type": "code",
   "execution_count": 8,
   "id": "f6a8580b-1574-4040-9a40-b3b0f07844a3",
   "metadata": {},
   "outputs": [
    {
     "name": "stdout",
     "output_type": "stream",
     "text": [
      "[[11 14]\n",
      " [11 14]]\n"
     ]
    }
   ],
   "source": [
    "import numpy as np\n",
    "var = np.matrix([[1,2],[1,2]])\n",
    "var1= np.matrix([[5,6],[3,4]])\n",
    "print(var.dot(var1))"
   ]
  },
  {
   "cell_type": "code",
   "execution_count": 12,
   "id": "9d60d6d8-3df6-45a0-9879-b59cc0239f6b",
   "metadata": {},
   "outputs": [
    {
     "name": "stdout",
     "output_type": "stream",
     "text": [
      "[[5 3 3]\n",
      " [6 4 2]]\n",
      "[[5 3 3]\n",
      " [6 4 2]]\n"
     ]
    }
   ],
   "source": [
    "var2= np.matrix([[5,6],[3,4],[3,2]])\n",
    "x = np.transpose(var2)\n",
    "print(x)\n",
    "print(var2.T)"
   ]
  },
  {
   "cell_type": "code",
   "execution_count": 16,
   "id": "34d9cdc2-a50b-4ec3-9871-441fd0670e56",
   "metadata": {},
   "outputs": [
    {
     "name": "stdout",
     "output_type": "stream",
     "text": [
      "[[5 3]\n",
      " [6 4]]\n"
     ]
    }
   ],
   "source": [
    "var3= np.matrix([[5,6],[3,4]])\n",
    "print(np.swapaxes(var3,1,0))"
   ]
  },
  {
   "cell_type": "code",
   "execution_count": 19,
   "id": "c691c218-faf0-4b1e-a706-7ebe014270fa",
   "metadata": {},
   "outputs": [
    {
     "name": "stdout",
     "output_type": "stream",
     "text": [
      "[[-2.   1. ]\n",
      " [ 1.5 -0.5]]\n"
     ]
    }
   ],
   "source": [
    "var4= np.matrix([[1,2],[3,4]])\n",
    "print(np.linalg.inv(var4))"
   ]
  },
  {
   "cell_type": "code",
   "execution_count": 23,
   "id": "8d65a722-0eb2-4444-b946-c0d1dbd9740b",
   "metadata": {},
   "outputs": [
    {
     "name": "stdout",
     "output_type": "stream",
     "text": [
      "[[ 7 10]\n",
      " [15 22]]\n",
      "\n",
      "[[1 0]\n",
      " [0 1]]\n",
      "\n",
      "[[ 5.5  -2.5 ]\n",
      " [-3.75  1.75]]\n",
      "\n"
     ]
    }
   ],
   "source": [
    "print(np.linalg.matrix_power(var4,2))\n",
    "print()\n",
    "print(np.linalg.matrix_power(var4,0))\n",
    "print()\n",
    "print(np.linalg.matrix_power(var4,-2))\n",
    "print()"
   ]
  },
  {
   "cell_type": "code",
   "execution_count": 28,
   "id": "a5c85c54-6e8b-4525-be40-9d192e8cc5b1",
   "metadata": {
    "scrolled": true
   },
   "outputs": [
    {
     "name": "stdout",
     "output_type": "stream",
     "text": [
      "0.0\n"
     ]
    }
   ],
   "source": [
    "var5= np.matrix([[1,2,3],[3,4,3],[1,2,3]])\n",
    "print(np.linalg.det(var5))"
   ]
  },
  {
   "cell_type": "code",
   "execution_count": null,
   "id": "43b3efa8-f1b5-4631-bdc8-57e1d6089861",
   "metadata": {},
   "outputs": [],
   "source": []
  }
 ],
 "metadata": {
  "kernelspec": {
   "display_name": "Python 3 (ipykernel)",
   "language": "python",
   "name": "python3"
  },
  "language_info": {
   "codemirror_mode": {
    "name": "ipython",
    "version": 3
   },
   "file_extension": ".py",
   "mimetype": "text/x-python",
   "name": "python",
   "nbconvert_exporter": "python",
   "pygments_lexer": "ipython3",
   "version": "3.12.7"
  }
 },
 "nbformat": 4,
 "nbformat_minor": 5
}
