{
 "cells": [
  {
   "cell_type": "markdown",
   "id": "8685c279-11c7-41c4-9539-6961e2207bdc",
   "metadata": {},
   "source": [
    "# dtype"
   ]
  },
  {
   "cell_type": "code",
   "execution_count": 2,
   "id": "0b05b880-4d54-4277-ae12-2c308429edc9",
   "metadata": {},
   "outputs": [
    {
     "name": "stdout",
     "output_type": "stream",
     "text": [
      "Data Type : int32\n"
     ]
    }
   ],
   "source": [
    "import numpy as np\n",
    "var1 = np.array([1,2,3,4])\n",
    "print(f\"Data Type : {var1.dtype}\")"
   ]
  },
  {
   "cell_type": "code",
   "execution_count": 3,
   "id": "b09a060e-87c1-4441-9b29-d10ded473e74",
   "metadata": {},
   "outputs": [
    {
     "name": "stdout",
     "output_type": "stream",
     "text": [
      "Data Type : float64\n"
     ]
    }
   ],
   "source": [
    "var2 = np.array([1.0,3.5, 6.7 , 8.9])\n",
    "print(f\"Data Type : {var2.dtype}\")"
   ]
  },
  {
   "cell_type": "code",
   "execution_count": 4,
   "id": "d8f0baca-7e23-463b-8d17-c84b24450fa1",
   "metadata": {},
   "outputs": [
    {
     "name": "stdout",
     "output_type": "stream",
     "text": [
      "Data Type : <U1\n"
     ]
    }
   ],
   "source": [
    "var3 = np.array([\"A\",\"B\",\"C\",\"D\"])\n",
    "print(f\"Data Type : {var3.dtype}\")"
   ]
  },
  {
   "cell_type": "code",
   "execution_count": 6,
   "id": "080c8e2c-1710-40cd-a549-0d97b49fca1b",
   "metadata": {},
   "outputs": [
    {
     "name": "stdout",
     "output_type": "stream",
     "text": [
      "Data Type : <U11\n"
     ]
    }
   ],
   "source": [
    "var4 = np.array([1,3, 6 , 8, \"E\", \"F\"])\n",
    "print(f\"Data Type : {var4.dtype}\")"
   ]
  },
  {
   "cell_type": "markdown",
   "id": "6dd13acc-dd75-4d29-8735-29fd9e0f9602",
   "metadata": {},
   "source": [
    "# dtype conversion"
   ]
  },
  {
   "cell_type": "code",
   "execution_count": 8,
   "id": "665a2512-c979-4157-b0f3-8d620ebc8e8a",
   "metadata": {},
   "outputs": [
    {
     "name": "stdout",
     "output_type": "stream",
     "text": [
      "Data Type : int8\n"
     ]
    }
   ],
   "source": [
    "var5 = np.array([1,3, 6 , 8], dtype = np.int8)\n",
    "print(f\"Data Type : {var5.dtype}\")"
   ]
  },
  {
   "cell_type": "code",
   "execution_count": 9,
   "id": "e72fa738-b510-4f3e-a5bb-9fdd5fb81c8c",
   "metadata": {},
   "outputs": [
    {
     "name": "stdout",
     "output_type": "stream",
     "text": [
      "Data Type : float32\n"
     ]
    }
   ],
   "source": [
    "x = np.array([1,3, 6 , 8], dtype = \"f\")\n",
    "print(f\"Data Type : {x.dtype}\")"
   ]
  },
  {
   "cell_type": "code",
   "execution_count": 18,
   "id": "db7449fd-a294-4a91-88cb-467f4b75e55d",
   "metadata": {},
   "outputs": [
    {
     "name": "stdout",
     "output_type": "stream",
     "text": [
      "Data Type : int32\n",
      "Data Type : float32\n",
      "Data Type : int32\n"
     ]
    }
   ],
   "source": [
    "x2 = np.array([1,3,2,4])\n",
    "print(f\"Data Type : {x2.dtype}\")\n",
    "\n",
    "new = np.float32(x2)\n",
    "print(f\"Data Type : {new.dtype}\")\n",
    "\n",
    "new_one = np.int_(new)\n",
    "print(f\"Data Type : {new_one.dtype}\")"
   ]
  },
  {
   "cell_type": "code",
   "execution_count": 19,
   "id": "963028d1-12a6-4055-88f8-a41333f85a03",
   "metadata": {},
   "outputs": [
    {
     "name": "stdout",
     "output_type": "stream",
     "text": [
      "[1 2 3 4]\n",
      "[1. 2. 3. 4.]\n",
      "Data Type : float64\n"
     ]
    }
   ],
   "source": [
    "x3 = np.array([1,2,3,4])\n",
    "new1 = x3.astype(float)\n",
    "print(x3)\n",
    "print(new1)\n",
    "print(f\"Data Type : {new1.dtype}\")"
   ]
  }
 ],
 "metadata": {
  "kernelspec": {
   "display_name": "Python 3 (ipykernel)",
   "language": "python",
   "name": "python3"
  },
  "language_info": {
   "codemirror_mode": {
    "name": "ipython",
    "version": 3
   },
   "file_extension": ".py",
   "mimetype": "text/x-python",
   "name": "python",
   "nbconvert_exporter": "python",
   "pygments_lexer": "ipython3",
   "version": "3.12.7"
  }
 },
 "nbformat": 4,
 "nbformat_minor": 5
}
