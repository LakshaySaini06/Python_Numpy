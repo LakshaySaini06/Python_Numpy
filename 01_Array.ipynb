{
 "cells": [
  {
   "cell_type": "markdown",
   "id": "41029ad7-c653-4332-aafb-66ec51587d2b",
   "metadata": {},
   "source": [
    "# time it"
   ]
  },
  {
   "cell_type": "code",
   "execution_count": 2,
   "id": "a08b9c76-4e8f-4617-a7ba-7d8b484d052a",
   "metadata": {},
   "outputs": [
    {
     "name": "stdout",
     "output_type": "stream",
     "text": [
      "409 ns ± 43.3 ns per loop (mean ± std. dev. of 7 runs, 1,000,000 loops each)\n"
     ]
    }
   ],
   "source": [
    "%timeit [j**4 for j in range(1,9)]"
   ]
  },
  {
   "cell_type": "code",
   "execution_count": 1,
   "id": "a1f91eb5-e857-4cfd-a6e3-2683baa71a81",
   "metadata": {},
   "outputs": [
    {
     "name": "stdout",
     "output_type": "stream",
     "text": [
      "2.28 μs ± 248 ns per loop (mean ± std. dev. of 7 runs, 100,000 loops each)\n"
     ]
    }
   ],
   "source": [
    "import numpy as np\n",
    "%timeit np.arange(1,9)**4"
   ]
  },
  {
   "cell_type": "markdown",
   "id": "7819a68c-21fd-4713-86a5-9fb2712823db",
   "metadata": {},
   "source": [
    "# Array"
   ]
  },
  {
   "cell_type": "code",
   "execution_count": 2,
   "id": "8ed429b6-1e04-49e4-9573-330a9ad0067c",
   "metadata": {},
   "outputs": [
    {
     "name": "stdout",
     "output_type": "stream",
     "text": [
      "<class 'numpy.ndarray'>\n",
      "1\n"
     ]
    }
   ],
   "source": [
    "import numpy as np\n",
    "x = [1,2,3,4]\n",
    "y = np.array(x)\n",
    "# y = np.array([1,2,3,4])\n",
    "# print(y)\n",
    "print(type(y))\n",
    "print(y.ndim)"
   ]
  },
  {
   "cell_type": "code",
   "execution_count": 7,
   "id": "e6f1dc59-6ac2-4939-860b-a1952bfc201b",
   "metadata": {},
   "outputs": [
    {
     "name": "stdin",
     "output_type": "stream",
     "text": [
      "Enter the number :  29\n",
      "Enter the number :  31\n",
      "Enter the number :  25\n",
      "Enter the number :  26\n"
     ]
    },
    {
     "name": "stdout",
     "output_type": "stream",
     "text": [
      "[29 31 25 26]\n"
     ]
    }
   ],
   "source": [
    "l = []\n",
    "for i in range(1,5):\n",
    "    int_1 = int(input(\"Enter the number : \"))\n",
    "    l.append(int_1)\n",
    "print(np.array(l))"
   ]
  },
  {
   "cell_type": "code",
   "execution_count": 4,
   "id": "19e6920b-30b7-4dfa-a042-1f174d98f984",
   "metadata": {},
   "outputs": [
    {
     "name": "stdout",
     "output_type": "stream",
     "text": [
      "[[1 2 3 4]\n",
      " [5 6 7 8]]\n",
      "2\n"
     ]
    }
   ],
   "source": [
    "ar2 = np.array([[1,2,3,4],[5,6,7,8]])\n",
    "print(ar2)\n",
    "print(ar2.ndim)"
   ]
  },
  {
   "cell_type": "code",
   "execution_count": 6,
   "id": "7f7b8bfd-4116-40b7-85a4-f361d52414eb",
   "metadata": {},
   "outputs": [
    {
     "name": "stdout",
     "output_type": "stream",
     "text": [
      "[[[ 1  2  3  4]\n",
      "  [ 5  6  7  8]\n",
      "  [ 9 10 11 12]]]\n",
      "3\n"
     ]
    }
   ],
   "source": [
    "ar3 = np.array([[[1,2,3,4],[5,6,7,8],[9,10,11,12]]])\n",
    "print(ar3)\n",
    "print(ar3.ndim)"
   ]
  },
  {
   "cell_type": "code",
   "execution_count": 8,
   "id": "cc37dc33-c2bd-432c-9485-40b17d495be9",
   "metadata": {},
   "outputs": [
    {
     "name": "stdout",
     "output_type": "stream",
     "text": [
      "[[[[[[[[[[1 2 3 4]]]]]]]]]]\n",
      "10\n"
     ]
    }
   ],
   "source": [
    "arn = np.array([1,2,3,4],ndmin = 10)\n",
    "print(arn)\n",
    "print(arn.ndim)"
   ]
  },
  {
   "cell_type": "code",
   "execution_count": null,
   "id": "958f7752-3ac9-40ce-bb8f-09badf522d0a",
   "metadata": {},
   "outputs": [],
   "source": []
  }
 ],
 "metadata": {
  "kernelspec": {
   "display_name": "Python 3 (ipykernel)",
   "language": "python",
   "name": "python3"
  },
  "language_info": {
   "codemirror_mode": {
    "name": "ipython",
    "version": 3
   },
   "file_extension": ".py",
   "mimetype": "text/x-python",
   "name": "python",
   "nbconvert_exporter": "python",
   "pygments_lexer": "ipython3",
   "version": "3.12.7"
  }
 },
 "nbformat": 4,
 "nbformat_minor": 5
}
