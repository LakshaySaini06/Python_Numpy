{
 "cells": [
  {
   "cell_type": "markdown",
   "id": "5a7583bd-0e29-412d-9f8e-eae063570d4c",
   "metadata": {},
   "source": [
    "# Copy vs View"
   ]
  },
  {
   "cell_type": "code",
   "execution_count": 5,
   "id": "6084b252-2db5-42db-ba86-792f22559ba0",
   "metadata": {},
   "outputs": [
    {
     "name": "stdout",
     "output_type": "stream",
     "text": [
      "[1 2 3]\n",
      "[1 4 3]\n"
     ]
    }
   ],
   "source": [
    "import numpy as np\n",
    "var = np.array([1,2,3]) \n",
    "\n",
    "y = var.copy()\n",
    "var[1] = 4\n",
    "print(y)\n",
    "print(var)"
   ]
  },
  {
   "cell_type": "code",
   "execution_count": 6,
   "id": "443193a3-4973-498a-ab55-ebf26e1b6509",
   "metadata": {},
   "outputs": [
    {
     "name": "stdout",
     "output_type": "stream",
     "text": [
      "[1 4 3]\n",
      "[1 4 3]\n"
     ]
    }
   ],
   "source": [
    "var = np.array([1,2,3])\n",
    "\n",
    "y = var.view()\n",
    "var[1] = 4\n",
    "print(y)\n",
    "print(var)"
   ]
  }
 ],
 "metadata": {
  "kernelspec": {
   "display_name": "Python 3 (ipykernel)",
   "language": "python",
   "name": "python3"
  },
  "language_info": {
   "codemirror_mode": {
    "name": "ipython",
    "version": 3
   },
   "file_extension": ".py",
   "mimetype": "text/x-python",
   "name": "python",
   "nbconvert_exporter": "python",
   "pygments_lexer": "ipython3",
   "version": "3.12.7"
  }
 },
 "nbformat": 4,
 "nbformat_minor": 5
}
