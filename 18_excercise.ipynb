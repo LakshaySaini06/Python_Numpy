{
 "cells": [
  {
   "cell_type": "code",
   "execution_count": 45,
   "id": "15311988-5a6e-494f-85c0-1cb23c707e23",
   "metadata": {},
   "outputs": [],
   "source": [
    "import numpy as np\n",
    "import random\n",
    "import time"
   ]
  },
  {
   "cell_type": "code",
   "execution_count": 48,
   "id": "b869e599-b411-45fc-a0e3-7127e83f529b",
   "metadata": {},
   "outputs": [
    {
     "name": "stdout",
     "output_type": "stream",
     "text": [
      "[2001, 736, 576, 377, 962, 696]\n",
      "0.0004317760467529297\n"
     ]
    }
   ],
   "source": [
    "list1 = [29,32,48,29,26,29]\n",
    "list2 = [69,23,12,13,37,24]\n",
    "start = time.time()\n",
    "list3 = []\n",
    "for i , j in zip(list1, list2):\n",
    "    list3.append(i*j)\n",
    "print(list3)\n",
    "end = time.time()\n",
    "print(end - start)"
   ]
  },
  {
   "cell_type": "code",
   "execution_count": 49,
   "id": "28d0d8ae-4dd8-4c4c-8819-4625830a7a04",
   "metadata": {},
   "outputs": [
    {
     "name": "stdout",
     "output_type": "stream",
     "text": [
      "[2001  736  576  377  962  696]\n",
      "0.0004134178161621094\n"
     ]
    }
   ],
   "source": [
    "arr1 = np.array([29,32,48,29,26,29])\n",
    "arr2 = np.array([69,23,12,13,37,24])\n",
    "start = time.time()\n",
    "arr3 = arr1*arr2\n",
    "print(arr3)\n",
    "end = time.time()\n",
    "print(end-start)"
   ]
  },
  {
   "cell_type": "code",
   "execution_count": 83,
   "id": "3bb28089-5b52-41d6-a3d2-b612c03ea8bb",
   "metadata": {},
   "outputs": [
    {
     "name": "stdout",
     "output_type": "stream",
     "text": [
      "[8 8 3 1 3 5 4 1 3]\n",
      "[[8 8 3]\n",
      " [1 3 5]\n",
      " [4 1 3]]\n",
      "(3, 3)\n",
      "[8 8 3 1 3 5 4 1 3]\n"
     ]
    }
   ],
   "source": [
    "l = []\n",
    "for i in range(1,10):\n",
    "    var = np.random.randint(1,10)\n",
    "    l.append(var)\n",
    "    x = np.array(l, ndmin = 1)\n",
    "    i +=1\n",
    "print(x)\n",
    "x= x.reshape(3,3)\n",
    "print(x)\n",
    "print(x.shape)\n",
    "y = x.flatten()\n",
    "print(y)"
   ]
  },
  {
   "cell_type": "code",
   "execution_count": 75,
   "id": "0bad6771-6396-4ed2-abe2-1c6dbdd2593a",
   "metadata": {},
   "outputs": [
    {
     "name": "stdout",
     "output_type": "stream",
     "text": [
      "float64\n",
      "int64\n"
     ]
    }
   ],
   "source": [
    "x2 = np.array([1.1 , 2.2 , 3.3])\n",
    "print(x2.dtype)\n",
    "x2 = x2.astype(int)\n",
    "print(x2.dtype)"
   ]
  },
  {
   "cell_type": "code",
   "execution_count": 42,
   "id": "3455dada-5bc1-4a6b-b152-e60d2f0edb96",
   "metadata": {},
   "outputs": [
    {
     "name": "stdout",
     "output_type": "stream",
     "text": [
      "[ 6  7  8  9 10]\n"
     ]
    }
   ],
   "source": [
    "arr = np.array([1,2,3,4,5,6,7,8,9,10])\n",
    "mask = arr >5\n",
    "print(arr[mask])"
   ]
  },
  {
   "cell_type": "code",
   "execution_count": 88,
   "id": "3d53d9f8-f66f-4f43-bd82-b6cfff2e27cd",
   "metadata": {},
   "outputs": [
    {
     "name": "stdout",
     "output_type": "stream",
     "text": [
      "[ 2  4  6  8 10]\n"
     ]
    }
   ],
   "source": [
    "condition = (arr%2 == 0)\n",
    "fancy = np.extract(condition , arr)\n",
    "print(fancy)"
   ]
  }
 ],
 "metadata": {
  "kernelspec": {
   "display_name": "Python 3 (ipykernel)",
   "language": "python",
   "name": "python3"
  },
  "language_info": {
   "codemirror_mode": {
    "name": "ipython",
    "version": 3
   },
   "file_extension": ".py",
   "mimetype": "text/x-python",
   "name": "python",
   "nbconvert_exporter": "python",
   "pygments_lexer": "ipython3",
   "version": "3.13.5"
  }
 },
 "nbformat": 4,
 "nbformat_minor": 5
}
