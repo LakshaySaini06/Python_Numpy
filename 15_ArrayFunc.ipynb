{
 "cells": [
  {
   "cell_type": "markdown",
   "id": "912ff2b5-5c47-453c-859b-9bce6ca5f131",
   "metadata": {},
   "source": [
    "# more array Functions"
   ]
  },
  {
   "cell_type": "code",
   "execution_count": 8,
   "id": "1dae525d-e082-4525-a8ac-5f0072ea814d",
   "metadata": {},
   "outputs": [
    {
     "name": "stdout",
     "output_type": "stream",
     "text": [
      "[2 4 3 5 1]\n"
     ]
    }
   ],
   "source": [
    "import numpy as np\n",
    "\n",
    "var = np.array([1,2,3,4,5])\n",
    "np.random.shuffle(var)\n",
    "print(var) # if I give y = np.random.shuffle(var) it will give None as output"
   ]
  },
  {
   "cell_type": "code",
   "execution_count": 10,
   "id": "42d8713c-91a7-46df-9ef5-4a7f1133f7c6",
   "metadata": {},
   "outputs": [
    {
     "name": "stdout",
     "output_type": "stream",
     "text": [
      "[1 2 3 4 5]\n",
      "(array([1, 2, 3, 4, 5]), array([0, 1, 3, 4, 5], dtype=int64), array([2, 2, 2, 3, 1], dtype=int64))\n"
     ]
    }
   ],
   "source": [
    "var1 = np.array([1,2,2,3,4,5,4,4,1,3])\n",
    "x = np.unique(var1)\n",
    "y = np.unique(var1,return_index = True,return_counts=True)\n",
    "print(x) # if I don't provide x here than there will be no change in orignal matrix\n",
    "print(y)"
   ]
  },
  {
   "cell_type": "code",
   "execution_count": 11,
   "id": "531a1c23-5125-4dec-9c3c-8c98e9599172",
   "metadata": {},
   "outputs": [
    {
     "name": "stdout",
     "output_type": "stream",
     "text": [
      "[[1 2 3]\n",
      " [4 5 6]]\n"
     ]
    }
   ],
   "source": [
    "var2 = ([1,2,3,4,5,6,7,8,9])\n",
    "x = np.resize(var2,(2,3))\n",
    "print(x)"
   ]
  },
  {
   "cell_type": "code",
   "execution_count": 18,
   "id": "e4623632-e8c4-4e35-bee2-255416fb66bf",
   "metadata": {},
   "outputs": [
    {
     "name": "stdout",
     "output_type": "stream",
     "text": [
      "[1 2 3 4 5 6 7 8 9]\n",
      "[1 4 7 2 5 8 3 6 9]\n",
      "[1 2 3 4 5 6 7 8 9]\n",
      "[1 4 7 2 5 8 3 6 9]\n",
      "[1 2 3 4 5 6 7 8 9]\n"
     ]
    }
   ],
   "source": [
    "var3 = np.array([[1,2,3],[4,5,6],[7,8,9]])\n",
    "print(var3.flatten())#by default C- row\n",
    "print(var3.flatten(order= \"F\")) # column\n",
    "\n",
    "print(var3.ravel())\n",
    "print(var3.ravel(order= \"F\"))\n",
    "print(var3.ravel(order= \"K\"))"
   ]
  },
  {
   "cell_type": "code",
   "execution_count": null,
   "id": "48ba6f0d-f602-4d51-9693-ebaf24a1fe72",
   "metadata": {},
   "outputs": [],
   "source": []
  }
 ],
 "metadata": {
  "kernelspec": {
   "display_name": "Python 3 (ipykernel)",
   "language": "python",
   "name": "python3"
  },
  "language_info": {
   "codemirror_mode": {
    "name": "ipython",
    "version": 3
   },
   "file_extension": ".py",
   "mimetype": "text/x-python",
   "name": "python",
   "nbconvert_exporter": "python",
   "pygments_lexer": "ipython3",
   "version": "3.12.7"
  }
 },
 "nbformat": 4,
 "nbformat_minor": 5
}
