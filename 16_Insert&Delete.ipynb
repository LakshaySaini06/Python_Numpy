{
 "cells": [
  {
   "cell_type": "markdown",
   "id": "eee8f0ae-fb77-49eb-a44a-73d459080326",
   "metadata": {},
   "source": [
    "# insert"
   ]
  },
  {
   "cell_type": "code",
   "execution_count": 6,
   "id": "852d4dc4-b98c-4e14-b028-e9f4a4f79db0",
   "metadata": {},
   "outputs": [
    {
     "name": "stdout",
     "output_type": "stream",
     "text": [
      "[ 1  2 40  3  4]\n",
      "[ 1  2 10  3  4 20]\n",
      "[ 1  2  3 50  4 50]\n",
      "[1 2 3 4]\n"
     ]
    }
   ],
   "source": [
    "import numpy as np\n",
    "\n",
    "var = np.array([1,2,3,4])\n",
    "x= np.insert(var, 2, 40)\n",
    "y = np.insert(var,(2,4),(10,20))\n",
    "z = np.insert(var,(3,4),50)\n",
    "print(x)\n",
    "print(y)\n",
    "print(z)\n",
    "print(var)"
   ]
  },
  {
   "cell_type": "code",
   "execution_count": 14,
   "id": "18c62909-c571-4735-8e90-a387d685dda6",
   "metadata": {},
   "outputs": [
    {
     "name": "stdout",
     "output_type": "stream",
     "text": [
      "[[ 1  2  3]\n",
      " [40 40 40]\n",
      " [ 4  5  6]]\n",
      "[[ 1 20  2  3]\n",
      " [ 4 20  5  6]]\n",
      "[[1 2 3]\n",
      " [3 4 5]\n",
      " [4 5 6]]\n"
     ]
    }
   ],
   "source": [
    "var1 = np.array([[1,2,3,],[4,5,6]])\n",
    "x1= np.insert(var1, 1, 40, axis = 0)\n",
    "y1 = np.insert(var1,1,20,axis = 1)\n",
    "z1= np.insert(var1,1,[3,4,5],axis = 0)\n",
    "print(x1)\n",
    "print(y1)\n",
    "print(z1)"
   ]
  },
  {
   "cell_type": "code",
   "execution_count": 16,
   "id": "eb6ec5ab-4c21-4ce4-86c2-a1b336b218ad",
   "metadata": {},
   "outputs": [
    {
     "name": "stdout",
     "output_type": "stream",
     "text": [
      "[[ 1.   2.   3. ]\n",
      " [ 4.   5.   6. ]\n",
      " [ 6.5 44.  23. ]]\n"
     ]
    }
   ],
   "source": [
    "var2 = np.array([[1,2,3,],[4,5,6]])\n",
    "x2 = np.append(var2, [[6.5,44, 23]],axis= 0)\n",
    "print(x2)"
   ]
  },
  {
   "cell_type": "markdown",
   "id": "07ebf9e8-bd06-47b3-9538-47e96fae4c61",
   "metadata": {},
   "source": [
    "# Delete"
   ]
  },
  {
   "cell_type": "code",
   "execution_count": 17,
   "id": "6c36ff84-8fc9-4d67-b0fb-bf00840f3be7",
   "metadata": {},
   "outputs": [
    {
     "name": "stdout",
     "output_type": "stream",
     "text": [
      "[2 4 5 6]\n"
     ]
    }
   ],
   "source": [
    "d = np.delete(var2,(0,2))\n",
    "print(d)"
   ]
  },
  {
   "cell_type": "code",
   "execution_count": null,
   "id": "2034dc4a-2b1d-4654-9060-c1cf80f6e431",
   "metadata": {},
   "outputs": [],
   "source": []
  }
 ],
 "metadata": {
  "kernelspec": {
   "display_name": "Python 3 (ipykernel)",
   "language": "python",
   "name": "python3"
  },
  "language_info": {
   "codemirror_mode": {
    "name": "ipython",
    "version": 3
   },
   "file_extension": ".py",
   "mimetype": "text/x-python",
   "name": "python",
   "nbconvert_exporter": "python",
   "pygments_lexer": "ipython3",
   "version": "3.12.7"
  }
 },
 "nbformat": 4,
 "nbformat_minor": 5
}
