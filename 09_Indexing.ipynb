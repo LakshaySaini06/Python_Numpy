{
 "cells": [
  {
   "cell_type": "markdown",
   "id": "f314ec3e-452e-449d-b9b2-68d12d900254",
   "metadata": {},
   "source": [
    "# indexing"
   ]
  },
  {
   "cell_type": "code",
   "execution_count": 3,
   "id": "4af3761e-0151-42e6-8b21-9d31e645c667",
   "metadata": {},
   "outputs": [
    {
     "name": "stdout",
     "output_type": "stream",
     "text": [
      "2\n",
      "3\n"
     ]
    }
   ],
   "source": [
    "import numpy as np\n",
    "var= np.array([1,2,3,4,5,6,7,8,9,10,11,12])\n",
    "print(var[1])\n",
    "print(var[-10])"
   ]
  },
  {
   "cell_type": "code",
   "execution_count": 5,
   "id": "97f10c1d-8826-4ef6-81db-21dbc8bd3a53",
   "metadata": {},
   "outputs": [
    {
     "name": "stdout",
     "output_type": "stream",
     "text": [
      "5\n"
     ]
    }
   ],
   "source": [
    "var1 = np.array([[9,8,7], [6,5,4]])\n",
    "print(var1[1,1])"
   ]
  },
  {
   "cell_type": "code",
   "execution_count": 8,
   "id": "5e24ba3d-9d06-4ebb-b25b-4c6285a1b4c0",
   "metadata": {},
   "outputs": [
    {
     "name": "stdout",
     "output_type": "stream",
     "text": [
      "5\n"
     ]
    }
   ],
   "source": [
    "var2 = np.array([[[1,2,3],[4,5,6]]])\n",
    "print(var2[0,1,1])"
   ]
  },
  {
   "cell_type": "markdown",
   "id": "468e515b-c683-413b-8fcf-3fa8f8427467",
   "metadata": {},
   "source": [
    "# Slicing"
   ]
  },
  {
   "cell_type": "code",
   "execution_count": null,
   "id": "2ae155c0-9229-47fb-ad4d-f47aeb85ca78",
   "metadata": {},
   "outputs": [],
   "source": [
    "x = np.array([1,2,3,4,5,6,7,8,9,10])\n",
    "print(x[2:5])\n",
    "print(x[4:])\n",
    "print(x[:3])\n",
    "print(x[2:8:2])\n",
    "print(x[::2])"
   ]
  },
  {
   "cell_type": "code",
   "execution_count": 13,
   "id": "b99a862b-1f2b-4882-b64d-f86d788fd781",
   "metadata": {},
   "outputs": [
    {
     "name": "stdout",
     "output_type": "stream",
     "text": [
      "[5 6]\n"
     ]
    }
   ],
   "source": [
    "x2 = np.array([[1,2,3],[4,5,6]])\n",
    "print(x2[1,1:])"
   ]
  },
  {
   "cell_type": "code",
   "execution_count": null,
   "id": "fe7e862b-7ba3-48dd-a24e-05f2d1352616",
   "metadata": {},
   "outputs": [],
   "source": []
  }
 ],
 "metadata": {
  "kernelspec": {
   "display_name": "Python 3 (ipykernel)",
   "language": "python",
   "name": "python3"
  },
  "language_info": {
   "codemirror_mode": {
    "name": "ipython",
    "version": 3
   },
   "file_extension": ".py",
   "mimetype": "text/x-python",
   "name": "python",
   "nbconvert_exporter": "python",
   "pygments_lexer": "ipython3",
   "version": "3.12.7"
  }
 },
 "nbformat": 4,
 "nbformat_minor": 5
}
