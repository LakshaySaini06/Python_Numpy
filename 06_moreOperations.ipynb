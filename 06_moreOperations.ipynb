{
 "cells": [
  {
   "cell_type": "code",
   "execution_count": 5,
   "id": "3c72ac55-874e-45a9-8788-56faa995c693",
   "metadata": {},
   "outputs": [
    {
     "name": "stdout",
     "output_type": "stream",
     "text": [
      "min : 18 2\n",
      "max : 47 0\n"
     ]
    }
   ],
   "source": [
    "import numpy as np\n",
    "var = np.array([47,31,18,26])\n",
    "print(f\"min : {np.min(var)} {np.argmin(var)}\")\n",
    "print(f\"max : {np.max(var)} {np.argmax(var)}\")"
   ]
  },
  {
   "cell_type": "code",
   "execution_count": 10,
   "id": "822e8e24-a553-469b-a10d-85a3baaf1c6c",
   "metadata": {},
   "outputs": [
    {
     "name": "stdout",
     "output_type": "stream",
     "text": [
      "min : 3\n",
      "min along row :  [ 9 28  3]\n",
      "min along column:  [3 9]\n"
     ]
    }
   ],
   "source": [
    "var2 = np.array([[21,28,3],[9,98,43,]])\n",
    "print(f\"min : {np.min(var2)}\")\n",
    "print(f\"min along row :  {np.min(var2, axis = 0)}\")\n",
    "print(f\"min along column:  {np.min(var2, axis = 1)}\")"
   ]
  },
  {
   "cell_type": "code",
   "execution_count": 11,
   "id": "48ab6933-a109-45e9-aff7-4a7a393f57dc",
   "metadata": {},
   "outputs": [
    {
     "name": "stdout",
     "output_type": "stream",
     "text": [
      "[6.8556546  5.56776436 4.24264069 5.09901951]\n"
     ]
    }
   ],
   "source": [
    "print(np.sqrt(var))"
   ]
  },
  {
   "cell_type": "code",
   "execution_count": 14,
   "id": "1a7190f5-3a1d-4ff2-8881-e27becf46925",
   "metadata": {},
   "outputs": [
    {
     "name": "stdout",
     "output_type": "stream",
     "text": [
      "[ 0.12357312 -0.40403765 -0.75098725  0.76255845]\n",
      "[-0.99233547  0.91474236  0.66031671  0.64691932]\n"
     ]
    }
   ],
   "source": [
    "print(np.sin(var))\n",
    "print(np.cos(var))"
   ]
  },
  {
   "cell_type": "code",
   "execution_count": 15,
   "id": "9e5d8eb1-c70b-4350-a9e4-a6ec5db53ca3",
   "metadata": {},
   "outputs": [
    {
     "name": "stdout",
     "output_type": "stream",
     "text": [
      "[ 47  78  96 122]\n"
     ]
    }
   ],
   "source": [
    "print(np.cumsum(var))"
   ]
  },
  {
   "cell_type": "code",
   "execution_count": null,
   "id": "2bf6e4cb-584a-4723-b449-edc581a1b205",
   "metadata": {},
   "outputs": [],
   "source": []
  }
 ],
 "metadata": {
  "kernelspec": {
   "display_name": "Python 3 (ipykernel)",
   "language": "python",
   "name": "python3"
  },
  "language_info": {
   "codemirror_mode": {
    "name": "ipython",
    "version": 3
   },
   "file_extension": ".py",
   "mimetype": "text/x-python",
   "name": "python",
   "nbconvert_exporter": "python",
   "pygments_lexer": "ipython3",
   "version": "3.12.7"
  }
 },
 "nbformat": 4,
 "nbformat_minor": 5
}
