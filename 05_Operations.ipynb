{
 "cells": [
  {
   "cell_type": "code",
   "execution_count": 2,
   "id": "98d6fe84-cb4b-4a8f-b60c-f12bde68c98d",
   "metadata": {},
   "outputs": [
    {
     "name": "stdout",
     "output_type": "stream",
     "text": [
      "[14 15 18 21]\n",
      "[10 11 14 17]\n",
      "[33 36 45 54]\n",
      "[5.5 6.  7.5 9. ]\n",
      "[1 0 1 0]\n",
      "[1331 1728 3375 5832]\n",
      "[0.09090909 0.08333333 0.06666667 0.05555556]\n"
     ]
    }
   ],
   "source": [
    "import numpy as np\n",
    "var = np.array([11,12,15,18])\n",
    "varadd = var + 3\n",
    "varsub = var - 1\n",
    "varmul = var * 3\n",
    "vardiv = var / 2\n",
    "varmod = var % 2\n",
    "varpow = var ** 3\n",
    "varrec = 1 / var\n",
    "print(varadd)\n",
    "print(varsub)\n",
    "print(varmul)\n",
    "print(vardiv)\n",
    "print(varmod)\n",
    "print(varpow)\n",
    "print(varrec)"
   ]
  },
  {
   "cell_type": "code",
   "execution_count": 5,
   "id": "313bc3c0-9b20-48d4-aa91-85fec7c8b178",
   "metadata": {},
   "outputs": [
    {
     "name": "stdout",
     "output_type": "stream",
     "text": [
      "[21 24 22 20]\n",
      "[ 9  8 12 16]\n",
      "[ 90 128  85  36]\n",
      "[2.5 2.  3.4 9. ]\n",
      "[3 0 2 0]\n",
      "[  11390625 4294967296    1419857        324]\n"
     ]
    }
   ],
   "source": [
    "var1 = np.array([6,8,5,2],dtype = np.int64)\n",
    "var2 = np.array([15,16,17,18],dtype = np.int64)\n",
    "varadd2 = var1+ var2\n",
    "varsub2 = var2 - var1\n",
    "varmul2 = var2 * var1\n",
    "vardiv2 = var2 / var1\n",
    "varmod2 = var2 % var1\n",
    "varpow2 = var2 ** var1\n",
    "print(varadd2)\n",
    "print(varsub2)\n",
    "print(varmul2)\n",
    "print(vardiv2)\n",
    "print(varmod2)\n",
    "print(varpow2)"
   ]
  },
  {
   "cell_type": "code",
   "execution_count": 8,
   "id": "11ce16f6-98b7-4139-957b-5f029beb5992",
   "metadata": {},
   "outputs": [
    {
     "name": "stdout",
     "output_type": "stream",
     "text": [
      "[20 21 22 23]\n",
      "[10 11 12 13]\n",
      "[ 90 128  85  36]\n",
      "[1.83333333 1.5        3.         9.        ]\n",
      "[3 0 2 0]\n",
      "[  11390625 4294967296    1419857        324]\n",
      "[0 0 0 0]\n"
     ]
    }
   ],
   "source": [
    "var1 = np.array([6,8,5,2],dtype = np.int64)\n",
    "var2 = np.array([15,16,17,18],dtype = np.int64)\n",
    "varadd2 = np.add(var2,5)\n",
    "varsub2 = np.subtract(var2,5)\n",
    "varmul2 = np.multiply(var2,var1)\n",
    "vardiv2 = np.divide(var,var1)\n",
    "varmod2 = np.mod(var2,var1)\n",
    "varpow2 = np.power(var2,var1)\n",
    "varrec = np.reciprocal(var2)\n",
    "print(varadd2)\n",
    "print(varsub2)\n",
    "print(varmul2)\n",
    "print(vardiv2)\n",
    "print(varmod2)\n",
    "print(varpow2)\n",
    "print(varrec)"
   ]
  },
  {
   "cell_type": "markdown",
   "id": "5800a79a-d2a8-47c3-b6de-06382c3ed2b9",
   "metadata": {},
   "source": [
    "# 2d array"
   ]
  },
  {
   "cell_type": "code",
   "execution_count": 9,
   "id": "c5daf615-5498-454a-a796-91c012f938c2",
   "metadata": {},
   "outputs": [
    {
     "name": "stdout",
     "output_type": "stream",
     "text": [
      "[[ 2  4  6  8]\n",
      " [10 12 14 16]]\n"
     ]
    }
   ],
   "source": [
    "var22 = np.array([[1,2,3,4],[5,6,7,8]])\n",
    "var21 = np.array([[1,2,3,4],[5,6,7,8]])\n",
    "\n",
    "varadd22 = np.add(var22,var21)\n",
    "print(varadd22)"
   ]
  },
  {
   "cell_type": "code",
   "execution_count": null,
   "id": "8fcd5497-237c-4c1f-b46b-072041dfc77b",
   "metadata": {},
   "outputs": [],
   "source": []
  }
 ],
 "metadata": {
  "kernelspec": {
   "display_name": "Python 3 (ipykernel)",
   "language": "python",
   "name": "python3"
  },
  "language_info": {
   "codemirror_mode": {
    "name": "ipython",
    "version": 3
   },
   "file_extension": ".py",
   "mimetype": "text/x-python",
   "name": "python",
   "nbconvert_exporter": "python",
   "pygments_lexer": "ipython3",
   "version": "3.12.7"
  }
 },
 "nbformat": 4,
 "nbformat_minor": 5
}
