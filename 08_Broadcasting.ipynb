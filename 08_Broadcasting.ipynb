{
 "cells": [
  {
   "cell_type": "markdown",
   "id": "01b0617d-a0f9-4d55-a2a6-3a36b54da424",
   "metadata": {},
   "source": [
    "# Broadcasting error"
   ]
  },
  {
   "cell_type": "code",
   "execution_count": 5,
   "id": "e80b2492-d9ed-4f66-b61e-7536fc6652fe",
   "metadata": {},
   "outputs": [
    {
     "name": "stdout",
     "output_type": "stream",
     "text": [
      "[1 2 3]\n",
      "\n",
      "1\n",
      "\n",
      "[[1]\n",
      " [2]\n",
      " [3]]\n",
      "\n",
      "2\n",
      "\n",
      "[[2 3 4]\n",
      " [3 4 5]\n",
      " [4 5 6]]\n",
      "\n",
      "2\n"
     ]
    }
   ],
   "source": [
    "import numpy as np\n",
    "\n",
    "var1 = np.array([1,2,3])\n",
    "print(var1)\n",
    "print()\n",
    "print(var1.ndim)\n",
    "print()\n",
    "\n",
    "var2 = np.array([[1],[2],[3]])\n",
    "print(var2)\n",
    "print()\n",
    "print(var2.ndim)\n",
    "print()\n",
    "\n",
    "ans = var1 + var2\n",
    "print(ans)\n",
    "print()\n",
    "print(ans.ndim)\n"
   ]
  },
  {
   "cell_type": "code",
   "execution_count": 11,
   "id": "9d5f3a01-6a40-4cda-b859-b93fcbb0f90f",
   "metadata": {},
   "outputs": [
    {
     "name": "stdout",
     "output_type": "stream",
     "text": [
      "(2, 1)\n",
      "(2, 3)\n",
      "[[2 3 4]\n",
      " [4 5 6]]\n"
     ]
    }
   ],
   "source": [
    "x = np.array([[1] ,[2]])\n",
    "print(x.shape)\n",
    "y = np.array([[1,2,3],[2,3,4]])\n",
    "print(y.shape)\n",
    "print(x+y)"
   ]
  },
  {
   "cell_type": "code",
   "execution_count": null,
   "id": "f1a70412-d0e6-4b81-b5d3-547d4f8f8c78",
   "metadata": {},
   "outputs": [],
   "source": []
  }
 ],
 "metadata": {
  "kernelspec": {
   "display_name": "Python 3 (ipykernel)",
   "language": "python",
   "name": "python3"
  },
  "language_info": {
   "codemirror_mode": {
    "name": "ipython",
    "version": 3
   },
   "file_extension": ".py",
   "mimetype": "text/x-python",
   "name": "python",
   "nbconvert_exporter": "python",
   "pygments_lexer": "ipython3",
   "version": "3.12.7"
  }
 },
 "nbformat": 4,
 "nbformat_minor": 5
}
