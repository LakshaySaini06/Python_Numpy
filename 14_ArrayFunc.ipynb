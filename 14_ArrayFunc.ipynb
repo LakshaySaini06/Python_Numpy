{
 "cells": [
  {
   "cell_type": "markdown",
   "id": "95131e00-b45f-42cd-a481-efabed20c0ee",
   "metadata": {},
   "source": [
    "# Search"
   ]
  },
  {
   "cell_type": "code",
   "execution_count": 4,
   "id": "25a1dfc1-7e7e-4dc5-94cb-5766906771f5",
   "metadata": {},
   "outputs": [
    {
     "name": "stdout",
     "output_type": "stream",
     "text": [
      "(array([ 1,  3,  5,  7,  9, 10, 12, 14], dtype=int64),)\n"
     ]
    }
   ],
   "source": [
    "import numpy as np\n",
    "var = np.array([1,2,3,4,5,6,7,8,9,2,4,5,6,7,4,])\n",
    "x = np.where((var%2)==0)\n",
    "print(x)"
   ]
  },
  {
   "cell_type": "code",
   "execution_count": 6,
   "id": "0c798287-f1d6-4c04-bc99-58925bd2f1d9",
   "metadata": {},
   "outputs": [
    {
     "name": "stdout",
     "output_type": "stream",
     "text": [
      "4\n"
     ]
    }
   ],
   "source": [
    "var1 = np.array([1,2,3,4,6,7,8,9])\n",
    "x1 = np.searchsorted(var1,5)\n",
    "print(x1)"
   ]
  },
  {
   "cell_type": "code",
   "execution_count": 12,
   "id": "37279ed0-dc5d-4654-8960-f15dc3e13a3c",
   "metadata": {},
   "outputs": [
    {
     "name": "stdout",
     "output_type": "stream",
     "text": [
      "4\n",
      "[4 4 4]\n"
     ]
    }
   ],
   "source": [
    "var2 = np.array([1,2,3,4,8,9])\n",
    "x2 = np.searchsorted(var2,5,side=\"Right\")\n",
    "x3 = np.searchsorted(var2,[5,6,7],side=\"Right\")\n",
    "\n",
    "print(x2)\n",
    "print(x3)"
   ]
  },
  {
   "cell_type": "markdown",
   "id": "393a4246-d674-4215-b53e-76d39c27b6be",
   "metadata": {},
   "source": [
    "# Sort"
   ]
  },
  {
   "cell_type": "code",
   "execution_count": 13,
   "id": "c00584d1-228c-42a3-a0f2-5d369098fb5d",
   "metadata": {},
   "outputs": [
    {
     "name": "stdout",
     "output_type": "stream",
     "text": [
      "[1 2 2 3 4 4 4 5 5 6 6 7 7 8 9]\n"
     ]
    }
   ],
   "source": [
    "var2 = np.array([1,2,3,4,5,6,7,8,9,2,4,5,6,7,4,])\n",
    "print(np.sort(var2))"
   ]
  },
  {
   "cell_type": "code",
   "execution_count": 14,
   "id": "ae2cfe31-a7ab-496d-b8c1-bd66e88776ad",
   "metadata": {},
   "outputs": [
    {
     "name": "stdout",
     "output_type": "stream",
     "text": [
      "['D' 'M' 'P' 'P' 'S' 'S']\n"
     ]
    }
   ],
   "source": [
    "var3 = np.array([\"S\",\"P\",\"D\",\"M\",\"S\",\"P\"])\n",
    "print(np.sort(var3))"
   ]
  },
  {
   "cell_type": "code",
   "execution_count": 15,
   "id": "7acf0dcd-bac0-4865-9e7b-8d6d02ae3c8d",
   "metadata": {},
   "outputs": [
    {
     "name": "stdout",
     "output_type": "stream",
     "text": [
      "[[ 1  3 21]\n",
      " [ 6 44 53]]\n"
     ]
    }
   ],
   "source": [
    "var4 = np.array([[1,21,3],[44,53,6]])\n",
    "print(np.sort(var4))"
   ]
  },
  {
   "cell_type": "markdown",
   "id": "a9431e2e-2a2f-4758-ac2e-52d52f5083f6",
   "metadata": {},
   "source": [
    "# Filter"
   ]
  },
  {
   "cell_type": "code",
   "execution_count": 19,
   "id": "99d3d46a-ed38-45d9-8818-3ce1e46e8099",
   "metadata": {},
   "outputs": [
    {
     "name": "stdout",
     "output_type": "stream",
     "text": [
      "['P' 'M']\n"
     ]
    }
   ],
   "source": [
    "var5 = np.array([\"S\",\"P\",\"D\",\"M\",\"S\",\"P\"])\n",
    "f = [False,True,False,True,False,False]\n",
    "arr = var5[f]\n",
    "print(arr)"
   ]
  },
  {
   "cell_type": "code",
   "execution_count": null,
   "id": "23aaacd4-e5bb-4a17-ab1b-737cfa52a762",
   "metadata": {},
   "outputs": [],
   "source": []
  }
 ],
 "metadata": {
  "kernelspec": {
   "display_name": "Python 3 (ipykernel)",
   "language": "python",
   "name": "python3"
  },
  "language_info": {
   "codemirror_mode": {
    "name": "ipython",
    "version": 3
   },
   "file_extension": ".py",
   "mimetype": "text/x-python",
   "name": "python",
   "nbconvert_exporter": "python",
   "pygments_lexer": "ipython3",
   "version": "3.12.7"
  }
 },
 "nbformat": 4,
 "nbformat_minor": 5
}
