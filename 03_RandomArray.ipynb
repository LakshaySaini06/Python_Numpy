{
 "cells": [
  {
   "cell_type": "markdown",
   "id": "bc34b9be-ec7d-41d3-8110-ef867a49eac3",
   "metadata": {},
   "source": [
    "# Random"
   ]
  },
  {
   "cell_type": "code",
   "execution_count": 11,
   "id": "484931ef-97aa-4657-afe8-377e73572c6a",
   "metadata": {},
   "outputs": [
    {
     "name": "stdout",
     "output_type": "stream",
     "text": [
      "[0.84641429 0.34711259 0.07089797 0.99322322]\n"
     ]
    }
   ],
   "source": [
    "import numpy as np\n",
    "\n",
    "var = np.random.rand(4)\n",
    "print(var)\n"
   ]
  },
  {
   "cell_type": "code",
   "execution_count": 6,
   "id": "433e0085-bba4-4cf6-b3f2-b1c25ffb91ae",
   "metadata": {},
   "outputs": [
    {
     "name": "stdout",
     "output_type": "stream",
     "text": [
      "[[0.10742306 0.72058632 0.07010217 0.58203751]\n",
      " [0.03852184 0.0589922  0.53898038 0.10271302]\n",
      " [0.69950841 0.92636071 0.30958096 0.06455858]]\n"
     ]
    }
   ],
   "source": [
    "var1 = np.random.rand(3,4)\n",
    "print(var1)"
   ]
  },
  {
   "cell_type": "code",
   "execution_count": 9,
   "id": "a1197ee6-977e-4b9f-b4ac-cd0d5ecca9ad",
   "metadata": {},
   "outputs": [
    {
     "name": "stdout",
     "output_type": "stream",
     "text": [
      "[ 0.83450392 -0.79944131 -1.33082349 -0.4890605 ]\n"
     ]
    }
   ],
   "source": [
    "var2 = np.random.randn(4)\n",
    "print(var2)"
   ]
  },
  {
   "cell_type": "code",
   "execution_count": 10,
   "id": "9e20ef1d-4f98-4014-8e82-696df02c7dde",
   "metadata": {},
   "outputs": [
    {
     "name": "stdout",
     "output_type": "stream",
     "text": [
      "[0.05409531 0.55458084 0.73009707 0.83445569]\n"
     ]
    }
   ],
   "source": [
    "var3 = np.random.ranf(4)\n",
    "print(var3)"
   ]
  },
  {
   "cell_type": "code",
   "execution_count": 12,
   "id": "44b135aa-ac39-4838-9f34-f6e6107921c4",
   "metadata": {},
   "outputs": [
    {
     "name": "stdout",
     "output_type": "stream",
     "text": [
      "[15  3 19 19 16]\n"
     ]
    }
   ],
   "source": [
    "var4 = np.random.randint(1,20,5)\n",
    "print(var4)"
   ]
  },
  {
   "cell_type": "code",
   "execution_count": null,
   "id": "b577aef3-b23b-4aed-875b-5c1a435c9dff",
   "metadata": {},
   "outputs": [],
   "source": []
  }
 ],
 "metadata": {
  "kernelspec": {
   "display_name": "Python 3 (ipykernel)",
   "language": "python",
   "name": "python3"
  },
  "language_info": {
   "codemirror_mode": {
    "name": "ipython",
    "version": 3
   },
   "file_extension": ".py",
   "mimetype": "text/x-python",
   "name": "python",
   "nbconvert_exporter": "python",
   "pygments_lexer": "ipython3",
   "version": "3.12.7"
  }
 },
 "nbformat": 4,
 "nbformat_minor": 5
}
