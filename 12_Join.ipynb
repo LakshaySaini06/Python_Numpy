{
 "cells": [
  {
   "cell_type": "markdown",
   "id": "b35e18fb-f906-406c-9800-df28ba7474a8",
   "metadata": {},
   "source": [
    "# Concatenate"
   ]
  },
  {
   "cell_type": "code",
   "execution_count": 3,
   "id": "be661112-86ee-4fd6-b80f-7ed607370d5e",
   "metadata": {},
   "outputs": [
    {
     "name": "stdout",
     "output_type": "stream",
     "text": [
      "[1 2 3 4 9 8 7 6]\n"
     ]
    }
   ],
   "source": [
    "import numpy as np\n",
    "\n",
    "x = np.array([1,2,3,4])\n",
    "y = np.array([9,8,7,6])\n",
    "\n",
    "z = np. concatenate((x, y))\n",
    "print(z)"
   ]
  },
  {
   "cell_type": "code",
   "execution_count": 22,
   "id": "379313f2-0cf8-420b-88fa-261aaa6d1a13",
   "metadata": {},
   "outputs": [
    {
     "name": "stdout",
     "output_type": "stream",
     "text": [
      "[[1 2]\n",
      " [3 4]\n",
      " [9 8]\n",
      " [7 6]]\n",
      "\n",
      "[[1 2 9 8]\n",
      " [3 4 7 6]]\n"
     ]
    }
   ],
   "source": [
    "var = np.array([[1,2],[3,4]])\n",
    "var1 = np.array([[9,8],[7,6]])\n",
    "\n",
    "ar = np. concatenate((var, var1),axis = 0)\n",
    "print(ar)\n",
    "print()\n",
    "ar = np. concatenate((var, var1),axis = 1)\n",
    "print(ar)"
   ]
  },
  {
   "cell_type": "markdown",
   "id": "1857b326-40b3-4d0e-bcd7-b4205adbc9b2",
   "metadata": {},
   "source": [
    "# stack"
   ]
  },
  {
   "cell_type": "code",
   "execution_count": 27,
   "id": "e8ce520b-7f19-419c-a512-e6b5097b82dd",
   "metadata": {},
   "outputs": [
    {
     "name": "stdout",
     "output_type": "stream",
     "text": [
      "[[[1 2]\n",
      "  [3 4]]\n",
      "\n",
      " [[9 8]\n",
      "  [7 6]]]\n",
      "\n",
      "[[1 2 9 8]\n",
      " [3 4 7 6]]\n",
      "\n",
      "[[1 2]\n",
      " [3 4]\n",
      " [9 8]\n",
      " [7 6]]\n",
      "\n",
      "[[[1 9]\n",
      "  [2 8]]\n",
      "\n",
      " [[3 7]\n",
      "  [4 6]]]\n",
      "\n"
     ]
    }
   ],
   "source": [
    "var2 = np.array([[1,2],[3,4]])\n",
    "var3 = np.array([[9,8],[7,6]])\n",
    "\n",
    "ar1 = np.stack((var2, var3),axis = 0)\n",
    "print(ar1)\n",
    "print()\n",
    "\n",
    "ar2 = np.hstack((var2, var3)) # row\n",
    "print(ar2)\n",
    "print()\n",
    "\n",
    "ar3 = np.vstack((var2, var3)) # column\n",
    "print(ar3)\n",
    "print()\n",
    "\n",
    "ar4 = np.dstack((var2, var3)) # height\n",
    "print(ar4)\n",
    "print()"
   ]
  },
  {
   "cell_type": "code",
   "execution_count": null,
   "id": "d2ca8495-016f-4afe-a553-3aac3a189749",
   "metadata": {},
   "outputs": [],
   "source": []
  }
 ],
 "metadata": {
  "kernelspec": {
   "display_name": "Python 3 (ipykernel)",
   "language": "python",
   "name": "python3"
  },
  "language_info": {
   "codemirror_mode": {
    "name": "ipython",
    "version": 3
   },
   "file_extension": ".py",
   "mimetype": "text/x-python",
   "name": "python",
   "nbconvert_exporter": "python",
   "pygments_lexer": "ipython3",
   "version": "3.12.7"
  }
 },
 "nbformat": 4,
 "nbformat_minor": 5
}
