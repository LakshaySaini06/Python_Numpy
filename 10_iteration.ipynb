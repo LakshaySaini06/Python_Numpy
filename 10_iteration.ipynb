{
 "cells": [
  {
   "cell_type": "markdown",
   "id": "285ce8b3-44b8-4456-b589-dca7b4ff7372",
   "metadata": {},
   "source": [
    "# Iteration"
   ]
  },
  {
   "cell_type": "code",
   "execution_count": 1,
   "id": "633211d9-b43b-4c45-9cb1-67834eed25a2",
   "metadata": {},
   "outputs": [
    {
     "name": "stdout",
     "output_type": "stream",
     "text": [
      "1\n",
      "2\n",
      "3\n",
      "4\n",
      "5\n",
      "6\n",
      "7\n",
      "89\n",
      "0\n"
     ]
    }
   ],
   "source": [
    "import numpy as np\n",
    "var = np.array([1,2,3,4,5,6,7,89,0])\n",
    "for i in var:\n",
    "    print(i)"
   ]
  },
  {
   "cell_type": "code",
   "execution_count": 16,
   "id": "7b3adbf0-8b81-441f-9053-c80e9f9d8427",
   "metadata": {},
   "outputs": [
    {
     "name": "stdout",
     "output_type": "stream",
     "text": [
      "[1 2 3]\n",
      "[4 5 6]\n",
      "\n",
      "1\n",
      "2\n",
      "3\n",
      "4\n",
      "5\n",
      "6\n"
     ]
    }
   ],
   "source": [
    "var1 = np.array([[1,2,3],[4,5,6]])\n",
    "for j in var1:\n",
    "    print(j)\n",
    "print()\n",
    "\n",
    "for k in var1:\n",
    "    for l in k:\n",
    "        print(l)"
   ]
  },
  {
   "cell_type": "code",
   "execution_count": 9,
   "id": "f13696a7-4017-4b3f-9375-37da2492f855",
   "metadata": {},
   "outputs": [
    {
     "name": "stdout",
     "output_type": "stream",
     "text": [
      "47\n",
      "31\n",
      "26\n",
      "18\n",
      "25\n",
      "1\n"
     ]
    }
   ],
   "source": [
    "var2 = np.array([[[47, 31],[26,18],[25,1]]])\n",
    "for i in var2:\n",
    "    for j in i:\n",
    "        for k in j:\n",
    "            print(k)"
   ]
  },
  {
   "cell_type": "markdown",
   "id": "42a384e8-a3ca-4092-9963-fc380f874c19",
   "metadata": {},
   "source": [
    "# nditer()"
   ]
  },
  {
   "cell_type": "code",
   "execution_count": 10,
   "id": "13b3f71d-c482-4138-9f22-ab089159c8e3",
   "metadata": {},
   "outputs": [
    {
     "name": "stdout",
     "output_type": "stream",
     "text": [
      "47\n",
      "31\n",
      "26\n",
      "18\n",
      "25\n",
      "1\n"
     ]
    }
   ],
   "source": [
    "var2 = np.array([[[47, 31],[26,18],[25,1]]])\n",
    "for i in np.nditer(var2):\n",
    "    print(i)"
   ]
  },
  {
   "cell_type": "code",
   "execution_count": 13,
   "id": "8a12d293-81bc-44fe-9094-c8a4b4a61d5e",
   "metadata": {},
   "outputs": [
    {
     "name": "stdout",
     "output_type": "stream",
     "text": [
      "b'47'\n",
      "b'31'\n",
      "b'26'\n",
      "b'18'\n",
      "b'25'\n",
      "b'1'\n"
     ]
    }
   ],
   "source": [
    "var2 = np.array([[[47, 31],[26,18],[25,1]]])\n",
    "for i in np.nditer(var2,flags = [\"buffered\"],op_dtypes=[\"S\"] ):\n",
    "    print(i)"
   ]
  },
  {
   "cell_type": "code",
   "execution_count": 15,
   "id": "1511c660-0e7a-4279-b3a1-657e73fe1686",
   "metadata": {},
   "outputs": [
    {
     "name": "stdout",
     "output_type": "stream",
     "text": [
      "(0, 0, 0) 47\n",
      "(0, 0, 1) 31\n",
      "(0, 1, 0) 26\n",
      "(0, 1, 1) 18\n",
      "(0, 2, 0) 25\n",
      "(0, 2, 1) 1\n"
     ]
    }
   ],
   "source": [
    "var2 = np.array([[[47, 31],[26,18],[25,1]]])\n",
    "for i,d in np.ndenumerate(var2):\n",
    "    print(i,d)"
   ]
  },
  {
   "cell_type": "code",
   "execution_count": null,
   "id": "1b5283f3-f94c-42e9-99fd-6171e3f5a856",
   "metadata": {},
   "outputs": [],
   "source": []
  }
 ],
 "metadata": {
  "kernelspec": {
   "display_name": "Python 3 (ipykernel)",
   "language": "python",
   "name": "python3"
  },
  "language_info": {
   "codemirror_mode": {
    "name": "ipython",
    "version": 3
   },
   "file_extension": ".py",
   "mimetype": "text/x-python",
   "name": "python",
   "nbconvert_exporter": "python",
   "pygments_lexer": "ipython3",
   "version": "3.12.7"
  }
 },
 "nbformat": 4,
 "nbformat_minor": 5
}
